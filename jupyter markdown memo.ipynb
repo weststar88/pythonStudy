{
 "cells": [
  {
   "cell_type": "markdown",
   "metadata": {},
   "source": [
    "툴바 오른쪽에 code를 markdown으로 바꾸면 이렇게 주석처럼 설명을 작성 가능\n",
    "\n",
    "# 첫번째 가장 큰 제목\n",
    "## 두번째 큰 제목\n",
    "### 세번째 큰 제목\n",
    "\n",
    "두껍게쓰기 **두껍게**\n",
    "\n",
    "날려쓰기 *날림*\n",
    "\n",
    "취소선 ~~취소~~\n",
    "\n",
    "\n",
    "\n",
    "번호가 없는 리스트 작성\n",
    "* 리스트1\n",
    "* 리스트2\n",
    "* 리스트3\n",
    "\n",
    "번호가 있는 리스트\n",
    "1. 리스트1\n",
    "2. 리스트2\n",
    "3. 리스트3\n",
    "\n",
    "줄바꿈은 스페이스바를 문장 맨 끝에 두번 누르면  \n",
    "이렇게 줄바꿈이 가능\n",
    "\n",
    "문단바꿈은 엔터두번하면 가능\n",
    "\n",
    "링크걸고 싶을때는 [링크](https://naver.com) 이런식으로\n",
    "\n",
    "이미지 추가하고싶을때는 ![코드잇](https://www.codeit.kr/static/images/brand/logo_original.png)  이렇게\n",
    "\n",
    "코드블록을 추가하고싶을때는 \n",
    "```python\n",
    "print('hello world!')\n",
    "for i in range(10)\n",
    "    print(i)\n",
    "```\n",
    "\n",
    "인라인코드를 사용하고 싶을땐 `인라인` 이렇게 사용\n",
    "\n",
    "구분선은\n",
    "\n",
    "---\n",
    "\n",
    "이렇게\n"
   ]
  }
 ],
 "metadata": {
  "kernelspec": {
   "display_name": "Python 3",
   "language": "python",
   "name": "python3"
  },
  "language_info": {
   "codemirror_mode": {
    "name": "ipython",
    "version": 3
   },
   "file_extension": ".py",
   "mimetype": "text/x-python",
   "name": "python",
   "nbconvert_exporter": "python",
   "pygments_lexer": "ipython3",
   "version": "3.7.6"
  }
 },
 "nbformat": 4,
 "nbformat_minor": 4
}
